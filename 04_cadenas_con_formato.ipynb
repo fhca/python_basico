{
 "cells": [
  {
   "cell_type": "markdown",
   "source": [
    "Ejemplo 6. Hay varias formas de poner *cadenas con formato*, o también llamadas *plantillas*\n",
    "en Python. La primera es obviamente pelearse con los espacios."
   ],
   "metadata": {
    "collapsed": false
   }
  },
  {
   "cell_type": "code",
   "execution_count": 5,
   "outputs": [
    {
     "name": "stdout",
     "text": [
      "|------------|----------------|-------|----------|\n|  Cantidad  |    Concepto    |Precio |Precio tot|\n|------------|----------------|-------|----------|\n|     1      |      torta     |    10 |          |\n|     10      |      sandwich     |    12 |          |\n|------------|----------------|-------|----------|\n"
     ],
     "output_type": "stream"
    }
   ],
   "source": [
    "cantidad = 1\n",
    "concepto = \"torta\"\n",
    "precio = 10\n",
    "print(\"|------------|----------------|-------|----------|\")\n",
    "print(\"|  Cantidad  |    Concepto    |Precio |Precio tot|\")\n",
    "print(\"|------------|----------------|-------|----------|\")\n",
    "print(\"|    \", cantidad, \"     |     \", concepto, \"    |   \", precio, \"|          |\")\n",
    "cantidad = 10\n",
    "concepto = \"sandwich\"\n",
    "precio = 12\n",
    "print(\"|    \", cantidad, \"     |     \", concepto, \"    |   \", precio, \"|          |\")\n",
    "print(\"|------------|----------------|-------|----------|\")"
   ],
   "metadata": {
    "collapsed": false,
    "pycharm": {
     "name": "#%%\n",
     "is_executing": false
    }
   }
  },
  {
   "cell_type": "markdown",
   "source": [
    "Ejemplo 7. Al principio en Python se utilizaba la sintáxis del lenguaje C para formatos básicos,\n",
    "pero pronto fué insuficiente."
   ],
   "metadata": {
    "collapsed": false
   }
  },
  {
   "cell_type": "code",
   "execution_count": 22,
   "outputs": [
    {
     "name": "stdout",
     "text": [
      "|------------|----------------|-------|----------|\n|  Cantidad  |    Concepto    |Precio |Precio tot|\n|------------|----------------|-------|----------|\n|           1|           torta|  10.00|          |\n|          10|        sandwich|  12.00|          |\n|------------|----------------|-------|----------|\n"
     ],
     "output_type": "stream"
    }
   ],
   "source": [
    "cantidad = 1\n",
    "concepto = \"torta\"\n",
    "precio = 10.0\n",
    "print(\"|------------|----------------|-------|----------|\")\n",
    "print(\"|  Cantidad  |    Concepto    |Precio |Precio tot|\")\n",
    "print(\"|------------|----------------|-------|----------|\")\n",
    "print(\"|%12d|%16s|%7.2f|          |\"%(cantidad, concepto, precio))\n",
    "cantidad = 10\n",
    "concepto = \"sandwich\"\n",
    "precio = 12.0\n",
    "print(\"|%12d|%16s|%7.2f|          |\"%(cantidad, concepto, precio))\n",
    "print(\"|------------|----------------|-------|----------|\")"
   ],
   "metadata": {
    "collapsed": false,
    "pycharm": {
     "name": "#%%\n",
     "is_executing": false
    }
   }
  },
  {
   "cell_type": "markdown",
   "source": [
    "Ejemplo 8. En una siguiente versión, se utilizó la llamada a `format()`, que daba\n",
    "mayor flexibilidad. Nótese como con este formato los espacios son relleno, hasta \n",
    "completar el ancho de columna pedido."
   ],
   "metadata": {
    "collapsed": false
   }
  },
  {
   "cell_type": "code",
   "execution_count": 1,
   "outputs": [
    {
     "name": "stdout",
     "text": [
      "|------------|----------------|-------|----------|\n|  Cantidad  |    Concepto    |Precio |Precio tot|\n|------------|----------------|-------|----------|\n|     1      |     torta      |  10.00|          |\n|     10     |****sandwich****|  12.00|          |\n|------------|----------------|-------|----------|\n"
     ],
     "output_type": "stream"
    }
   ],
   "source": [
    "cantidad = 1\n",
    "concepto = \"torta\"\n",
    "precio = 10.0\n",
    "print(\"|------------|----------------|-------|----------|\")\n",
    "print(\"|  Cantidad  |    Concepto    |Precio |Precio tot|\")\n",
    "print(\"|------------|----------------|-------|----------|\")\n",
    "print(\"|{:^12}|{:^16}|{:7.2f}|          |\".format(cantidad, concepto, precio))\n",
    "cantidad = 10\n",
    "concepto = \"sandwich\"\n",
    "precio = 12.0\n",
    "print(\"|{:^12}|{:*^16}|{:7.2f}|          |\".format(cantidad, concepto, precio))\n",
    "print(\"|------------|----------------|-------|----------|\")"
   ],
   "metadata": {
    "collapsed": false,
    "pycharm": {
     "name": "#%%\n",
     "is_executing": false
    }
   }
  },
  {
   "cell_type": "markdown",
   "source": [
    "Ejemplo 9. Si resulta confuso que variable va en tal posición, se pueden usar\n",
    "*parámetros nombrados* con `format()`. Sólo hay que recordar que si hay parámetros \n",
    "nombrados, estos siempre deben estar después de los no nombrados. También se pueden \n",
    "poner formatos variables utilizando llaves anidadas."
   ],
   "metadata": {
    "collapsed": false
   }
  },
  {
   "cell_type": "code",
   "execution_count": 2,
   "outputs": [
    {
     "name": "stdout",
     "text": [
      "|------------|----------------|-------|----------|\n|  Cantidad  |    Concepto    |Precio |Precio tot|\n|------------|----------------|-------|----------|\n|     1      |     torta      |  10.00|          |\n|     10     |____sandwich____|  12.00|          |\n|------------|----------------|-------|----------|\n"
     ],
     "output_type": "stream"
    }
   ],
   "source": [
    "cantidad = 1\n",
    "concepto = \"torta\"\n",
    "precio = 10.0\n",
    "print(\"|------------|----------------|-------|----------|\")\n",
    "print(\"|  Cantidad  |    Concepto    |Precio |Precio tot|\")\n",
    "print(\"|------------|----------------|-------|----------|\")\n",
    "print(\"|{cant:^12}|{concepto:^16}|{precio:7.2f}|          |\".format(cant=cantidad, concepto=concepto, precio=precio))\n",
    "cantidad = 10\n",
    "concepto = \"sandwich\"\n",
    "precio = 12.0\n",
    "print(\"|{:{}{}}|{:{relleno}{}{}}|{:{}{}}|          |\".format(cantidad, '^', 12, concepto, '^', 16, \n",
    "                                                             precio, '>', '7.2f', relleno='_'))\n",
    "print(\"|------------|----------------|-------|----------|\")"
   ],
   "metadata": {
    "collapsed": false,
    "pycharm": {
     "name": "#%%\n",
     "is_executing": false
    }
   }
  },
  {
   "cell_type": "markdown",
   "source": [
    "Ejemplo 10. A partir de la versión 3.6 de Python, se simplifica bastante el formato\n",
    "de cadenas con las *f-strings*. Incluso se pueden usar expresiones dentro de las llaves!."
   ],
   "metadata": {
    "collapsed": false,
    "pycharm": {
     "name": "#%% md\n",
     "is_executing": false
    }
   }
  },
  {
   "cell_type": "code",
   "execution_count": 46,
   "outputs": [
    {
     "name": "stdout",
     "text": [
      "|------------|----------------|-------|----------|\n|  Cantidad  |    Concepto    |Precio |Precio tot|\n|------------|----------------|-------|----------|\n|     1      |     torta      |  10.00|          |\n|     10     |    sandwich    |  12.00|    120.00|\n|------------|----------------|-------|----------|\n"
     ],
     "output_type": "stream"
    }
   ],
   "source": [
    "cantidad = 1\n",
    "concepto = \"torta\"\n",
    "precio = 10.0\n",
    "print(\"|------------|----------------|-------|----------|\")\n",
    "print(\"|  Cantidad  |    Concepto    |Precio |Precio tot|\")\n",
    "print(\"|------------|----------------|-------|----------|\")\n",
    "print(f\"|{cantidad:^12}|{concepto:^16}|{precio:7.2f}|          |\")\n",
    "cantidad = 10\n",
    "concepto = \"sandwich\"\n",
    "precio = 12.0\n",
    "print(f\"|{cantidad:^12}|{concepto:^16}|{precio:7.2f}|{cantidad*precio:10.2f}|\")\n",
    "print(\"|------------|----------------|-------|----------|\")"
   ],
   "metadata": {
    "collapsed": false,
    "pycharm": {
     "name": "#%%\n",
     "is_executing": false
    }
   }
  },
  {
   "cell_type": "markdown",
   "source": [
    "Finalmente, también está el módulo Template de la biblioteca estándar de Python, que dejamos al\n",
    "lector para investigar."
   ],
   "metadata": {
    "collapsed": false,
    "pycharm": {
     "name": "#%% md\n"
    }
   }
  }
 ],
 "metadata": {
  "language_info": {
   "codemirror_mode": {
    "name": "ipython",
    "version": 2
   },
   "file_extension": ".py",
   "mimetype": "text/x-python",
   "name": "python",
   "nbconvert_exporter": "python",
   "pygments_lexer": "ipython2",
   "version": "2.7.6"
  },
  "kernelspec": {
   "name": "python3",
   "language": "python",
   "display_name": "Python 3"
  },
  "pycharm": {
   "stem_cell": {
    "cell_type": "raw",
    "source": [],
    "metadata": {
     "collapsed": false
    }
   }
  }
 },
 "nbformat": 4,
 "nbformat_minor": 0
}