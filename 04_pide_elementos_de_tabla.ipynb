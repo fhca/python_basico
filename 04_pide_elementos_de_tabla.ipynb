{
 "cells": [
  {
   "cell_type": "markdown",
   "source": [
    "En esta serie de ejemplos mostraremos paso a paso el concepto de variable:\n",
    "* como asignarle un valor\n",
    "* como utilizar su valor \n",
    "* como utilizar funciones para recibir valores (input) y pasar\n",
    "el resultado a una variable\n",
    "* como re-asignarle valores \n",
    "\n",
    "Comenzaremos con los ejemplos vistos en el programa anterior pero mas explicados."
   ],
   "metadata": {
    "collapsed": false,
    "pycharm": {
     "name": "#%% md\n"
    }
   }
  },
  {
   "cell_type": "markdown",
   "source": [
    "Ejemplo 1. Asigna el valor fijo `1` a la variable llamada `cantidad` y la muestra"
   ],
   "metadata": {
    "collapsed": false,
    "pycharm": {
     "name": "#%% md\n"
    }
   }
  },
  {
   "cell_type": "code",
   "execution_count": 1,
   "outputs": [
    {
     "name": "stdout",
     "text": [
      "cantidad = 1\n"
     ],
     "output_type": "stream"
    }
   ],
   "source": [
    "cantidad = 1\n",
    "print(\"cantidad =\", cantidad)"
   ],
   "metadata": {
    "collapsed": false,
    "pycharm": {
     "name": "#%%\n",
     "is_executing": false
    }
   }
  },
  {
   "cell_type": "markdown",
   "source": [
    "Ejemplo 2. Permite dar un valor con la función `input`. Las funciones se llaman \n",
    "poniendo su nombre seguido de paréntesis. Dentro de los paréntesis puede necesitar\n",
    "parámetros. En este caso, la cadena `Dame la cantidad` es el texto que avisa que\n",
    "se está listo para recibir una respuesta."
   ],
   "metadata": {
    "collapsed": false,
    "pycharm": {
     "name": "#%% md\n"
    }
   }
  },
  {
   "cell_type": "code",
   "execution_count": 3,
   "outputs": [
    {
     "name": "stdout",
     "text": [
      "cantidad = 4\n"
     ],
     "output_type": "stream"
    }
   ],
   "source": [
    "cantidad = input(\"Dame la cantidad:\")\n",
    "print(\"cantidad =\", cantidad)"
   ],
   "metadata": {
    "collapsed": false,
    "pycharm": {
     "name": "#%%\n",
     "is_executing": false
    }
   }
  },
  {
   "cell_type": "markdown",
   "source": [
    "Ejemplo 3. Pide diversos valores asignando las respuestas a variables las cuales\n",
    "muestran su valor con el `print()`. Nótese que el `print()` puede llevar un número \n",
    "indefinido de parámetros (se separan con comas). "
   ],
   "metadata": {
    "collapsed": false,
    "pycharm": {
     "name": "#%% md\n"
    }
   }
  },
  {
   "cell_type": "code",
   "source": [
    "cantidad = input(\"Dame la cantidad:\")\n",
    "concepto = input(\"Dame el concepto:\")\n",
    "precio = input(\"Dame el precio:\")\n",
    "print(\"cantidad =\", cantidad)\n",
    "print(\"concepto =\", concepto)\n",
    "print(\"precio =\", precio)"
   ],
   "metadata": {
    "collapsed": false,
    "pycharm": {
     "name": "#%%\n",
     "is_executing": false
    }
   },
   "execution_count": 5,
   "outputs": [
    {
     "name": "stdout",
     "text": [
      "cantidad = 1\nconcepto = torta\nprecio = 10\n"
     ],
     "output_type": "stream"
    }
   ]
  },
  {
   "cell_type": "markdown",
   "source": [
    "Ejemplo 4. Tratemos ahora de mostrar los resultados en una tabla."
   ],
   "metadata": {
    "collapsed": false,
    "pycharm": {
     "name": "#%% md\n"
    }
   }
  },
  {
   "cell_type": "code",
   "execution_count": 7,
   "outputs": [
    {
     "name": "stdout",
     "text": [
      "|------------|----------------|-------|----------|\n|  Cantidad  |    Concepto    |Precio |  Precio  |\n|------------|----------------|-------|----------|\n1 torta 10\n"
     ],
     "output_type": "stream"
    }
   ],
   "source": [
    "cantidad = input(\"Dame la cantidad:\")\n",
    "concepto = input(\"Dame el concepto:\")\n",
    "precio = input(\"Dame el precio:\")\n",
    "print(\"|------------|----------------|-------|----------|\")\n",
    "print(\"|  Cantidad  |    Concepto    |Precio |  Precio  |\")\n",
    "print(\"|------------|----------------|-------|----------|\")\n",
    "print(cantidad, concepto, precio)"
   ],
   "metadata": {
    "collapsed": false,
    "pycharm": {
     "name": "#%%\n",
     "is_executing": false
    }
   }
  },
  {
   "cell_type": "markdown",
   "source": [
    "Ejemplo 5. Nota la dificultad de ajustar los anchos de las columnas. En este caso,\n",
    "de poner una `cantidad` mayor a 9 o de usar mas letras o menos en el concepto o dígitos \n",
    "en el total, se necesitará ajustar el espacio fijado. Además están los espacios que de\n",
    "por si separan los valores de los parámetros del `print()`. "
   ],
   "metadata": {
    "collapsed": false,
    "pycharm": {
     "name": "#%% md\n"
    }
   }
  },
  {
   "cell_type": "code",
   "execution_count": 12,
   "outputs": [
    {
     "name": "stdout",
     "text": [
      "|------------|----------------|-------|----------|\n|  Cantidad  |    Concepto    |Precio |Precio tot|\n|------------|----------------|-------|----------|\n|     1      |      torta     |    10 |          |\n|------------|----------------|-------|----------|\n"
     ],
     "output_type": "stream"
    }
   ],
   "source": [
    "cantidad = input(\"Dame la cantidad:\")\n",
    "concepto = input(\"Dame el concepto:\")\n",
    "precio = input(\"Dame el precio:\")\n",
    "print(\"|------------|----------------|-------|----------|\")\n",
    "print(\"|  Cantidad  |    Concepto    |Precio |Precio tot|\")\n",
    "print(\"|------------|----------------|-------|----------|\")\n",
    "print(\"|    \", cantidad, \"     |     \", concepto, \"    |   \", precio, \"|          |\")\n",
    "print(\"|------------|----------------|-------|----------|\")\n"
   ],
   "metadata": {
    "collapsed": false,
    "pycharm": {
     "name": "#%%\n",
     "is_executing": false
    }
   }
  }
 ],
 "metadata": {
  "language_info": {
   "codemirror_mode": {
    "name": "ipython",
    "version": 2
   },
   "file_extension": ".py",
   "mimetype": "text/x-python",
   "name": "python",
   "nbconvert_exporter": "python",
   "pygments_lexer": "ipython2",
   "version": "2.7.6"
  },
  "kernelspec": {
   "name": "python3",
   "language": "python",
   "display_name": "Python 3"
  },
  "pycharm": {
   "stem_cell": {
    "cell_type": "raw",
    "source": [],
    "metadata": {
     "collapsed": false
    }
   }
  }
 },
 "nbformat": 4,
 "nbformat_minor": 0
}